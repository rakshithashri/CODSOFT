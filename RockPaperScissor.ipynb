{
  "nbformat": 4,
  "nbformat_minor": 0,
  "metadata": {
    "colab": {
      "provenance": [],
      "authorship_tag": "ABX9TyO/HwESzriRRL82/X92sH9/",
      "include_colab_link": true
    },
    "kernelspec": {
      "name": "python3",
      "display_name": "Python 3"
    },
    "language_info": {
      "name": "python"
    }
  },
  "cells": [
    {
      "cell_type": "markdown",
      "metadata": {
        "id": "view-in-github",
        "colab_type": "text"
      },
      "source": [
        "<a href=\"https://colab.research.google.com/github/rakshithashri/CODSOFT/blob/main/RockPaperScissor.ipynb\" target=\"_parent\"><img src=\"https://colab.research.google.com/assets/colab-badge.svg\" alt=\"Open In Colab\"/></a>"
      ]
    },
    {
      "cell_type": "code",
      "execution_count": null,
      "metadata": {
        "colab": {
          "base_uri": "https://localhost:8080/"
        },
        "id": "jP7BeicXT00t",
        "outputId": "2c4f86af-3339-47ad-9ff7-eb0760f23b95"
      },
      "outputs": [
        {
          "output_type": "stream",
          "name": "stdout",
          "text": [
            "\n",
            "Rock, Paper, Scissors Game\n",
            "Your score: 0 | Computer's score: 0\n",
            "Choose rock, paper, or scissors: rock\n",
            "\n",
            "You chose: rock\n",
            "Computer chose: rock\n",
            "It's a tie!\n",
            "Do you want to play again? (yes/no): yes\n",
            "\n",
            "Rock, Paper, Scissors Game\n",
            "Your score: 0 | Computer's score: 0\n",
            "Choose rock, paper, or scissors: scissor\n",
            "Invalid choice. Please enter rock, paper, or scissors.\n",
            "Choose rock, paper, or scissors: scissors\n",
            "\n",
            "You chose: scissors\n",
            "Computer chose: rock\n",
            "Computer wins!\n",
            "Do you want to play again? (yes/no): yes\n",
            "\n",
            "Rock, Paper, Scissors Game\n",
            "Your score: 1 | Computer's score: 0\n",
            "Choose rock, paper, or scissors: paper\n",
            "\n",
            "You chose: paper\n",
            "Computer chose: scissors\n",
            "Computer wins!\n"
          ]
        }
      ],
      "source": [
        "import random\n",
        "\n",
        "def get_user_choice():\n",
        "    while True:\n",
        "        user_choice = input(\"Choose rock, paper, or scissors: \").lower()\n",
        "        if user_choice in [\"rock\", \"paper\", \"scissors\"]:\n",
        "            return user_choice\n",
        "        else:\n",
        "            print(\"Invalid choice. Please enter rock, paper, or scissors.\")\n",
        "\n",
        "def get_computer_choice():\n",
        "    return random.choice([\"rock\", \"paper\", \"scissors\"])\n",
        "\n",
        "def determine_winner(user_choice, computer_choice):\n",
        "    if user_choice == computer_choice:\n",
        "        return \"It's a tie!\"\n",
        "    elif (user_choice == \"rock\" and computer_choice == \"scissors\") or \\\n",
        "         (user_choice == \"paper\" and computer_choice == \"rock\") or \\\n",
        "         (user_choice == \"scissors\" and computer_choice == \"paper\"):\n",
        "        return \"You win!\"\n",
        "    else:\n",
        "        return \"Computer wins!\"\n",
        "\n",
        "def rock_paper_scissors_game():\n",
        "    user_score = 0\n",
        "    computer_score = 0\n",
        "\n",
        "    while True:\n",
        "        print(\"\\nRock, Paper, Scissors Game\")\n",
        "        print(f\"Your score: {user_score} | Computer's score: {computer_score}\")\n",
        "\n",
        "        user_choice = get_user_choice()\n",
        "        computer_choice = get_computer_choice()\n",
        "\n",
        "        print(f\"\\nYou chose: {user_choice}\")\n",
        "        print(f\"Computer chose: {computer_choice}\")\n",
        "\n",
        "        result = determine_winner(user_choice, computer_choice)\n",
        "        print(result)\n",
        "\n",
        "        if \"win\" in result:\n",
        "            user_score += 1\n",
        "        elif \"lose\" in result:\n",
        "            computer_score += 1\n",
        "\n",
        "        play_again = input(\"Do you want to play again? (yes/no): \").lower()\n",
        "        if play_again != \"yes\":\n",
        "            print(\"Thanks for playing! Final scores:\")\n",
        "            print(f\"Your score: {user_score} | Computer's score: {computer_score}\")\n",
        "            break\n",
        "\n",
        "if __name__ == \"__main__\":\n",
        "    rock_paper_scissors_game()\n"
      ]
    }
  ]
}