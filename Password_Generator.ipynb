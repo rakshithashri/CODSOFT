{
  "nbformat": 4,
  "nbformat_minor": 0,
  "metadata": {
    "colab": {
      "provenance": [],
      "authorship_tag": "ABX9TyPTLx0YGWMa8omFdn4SCIun",
      "include_colab_link": true
    },
    "kernelspec": {
      "name": "python3",
      "display_name": "Python 3"
    },
    "language_info": {
      "name": "python"
    }
  },
  "cells": [
    {
      "cell_type": "markdown",
      "metadata": {
        "id": "view-in-github",
        "colab_type": "text"
      },
      "source": [
        "<a href=\"https://colab.research.google.com/github/rakshithashri/CODSOFT/blob/main/Password_Generator.ipynb\" target=\"_parent\"><img src=\"https://colab.research.google.com/assets/colab-badge.svg\" alt=\"Open In Colab\"/></a>"
      ]
    },
    {
      "cell_type": "code",
      "execution_count": 1,
      "metadata": {
        "colab": {
          "base_uri": "https://localhost:8080/"
        },
        "id": "7eWRPcLOOUAj",
        "outputId": "464cb65b-274c-4f45-8d2c-1235f0a88fa3"
      },
      "outputs": [
        {
          "output_type": "stream",
          "name": "stdout",
          "text": [
            "Password Generator\n",
            "-------------------\n",
            "Enter the desired length of the password: 12\n",
            "Generated Password: y<B9&ZF3s7,q\n"
          ]
        }
      ],
      "source": [
        "import random\n",
        "import string\n",
        "\n",
        "def generate_password(length):\n",
        "    characters = string.ascii_letters + string.digits + string.punctuation\n",
        "    password = ''.join(random.choice(characters) for _ in range(length))\n",
        "    return password\n",
        "\n",
        "def main():\n",
        "    print(\"Password Generator\")\n",
        "    print(\"-------------------\")\n",
        "\n",
        "    try:\n",
        "        # Get the desired length of the password from the user\n",
        "        password_length = int(input(\"Enter the desired length of the password: \"))\n",
        "\n",
        "        # Generate and display the password\n",
        "        password = generate_password(password_length)\n",
        "        print(\"Generated Password:\", password)\n",
        "\n",
        "    except ValueError:\n",
        "        print(\"Invalid input. Please enter a valid number for the password length.\")\n",
        "\n",
        "if __name__ == \"__main__\":\n",
        "    main()\n"
      ]
    }
  ]
}