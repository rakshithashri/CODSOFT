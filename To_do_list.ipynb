{
  "nbformat": 4,
  "nbformat_minor": 0,
  "metadata": {
    "colab": {
      "provenance": [],
      "authorship_tag": "ABX9TyOenGG7Z52lk01P6E5PJVKL",
      "include_colab_link": true
    },
    "kernelspec": {
      "name": "python3",
      "display_name": "Python 3"
    },
    "language_info": {
      "name": "python"
    }
  },
  "cells": [
    {
      "cell_type": "markdown",
      "metadata": {
        "id": "view-in-github",
        "colab_type": "text"
      },
      "source": [
        "<a href=\"https://colab.research.google.com/github/rakshithashri/CODSOFT/blob/main/To_do_list.ipynb\" target=\"_parent\"><img src=\"https://colab.research.google.com/assets/colab-badge.svg\" alt=\"Open In Colab\"/></a>"
      ]
    },
    {
      "cell_type": "code",
      "execution_count": 1,
      "metadata": {
        "colab": {
          "base_uri": "https://localhost:8080/"
        },
        "id": "fQ4Jhg_cS_8O",
        "outputId": "d3178197-0d4f-436f-ab00-0df33f40ea57"
      },
      "outputs": [
        {
          "output_type": "stream",
          "name": "stdout",
          "text": [
            "\n",
            "To-Do List Application\n",
            "1. Add Task\n",
            "2. View Tasks\n",
            "3. Mark Task as Completed\n",
            "4. Delete Task\n",
            "0. Exit\n",
            "Enter your choice: 1\n",
            "Enter the task: to sleep\n",
            "\n",
            "To-Do List Application\n",
            "1. Add Task\n",
            "2. View Tasks\n",
            "3. Mark Task as Completed\n",
            "4. Delete Task\n",
            "0. Exit\n",
            "Enter your choice: 3\n",
            "Enter the task index to mark as completed: 1\n",
            "Task marked as completed.\n",
            "\n",
            "To-Do List Application\n",
            "1. Add Task\n",
            "2. View Tasks\n",
            "3. Mark Task as Completed\n",
            "4. Delete Task\n",
            "0. Exit\n",
            "Enter your choice: 2\n",
            "To-Do List:\n",
            "1.  [X] to sleep\n",
            "\n",
            "To-Do List Application\n",
            "1. Add Task\n",
            "2. View Tasks\n",
            "3. Mark Task as Completed\n",
            "4. Delete Task\n",
            "0. Exit\n",
            "Enter your choice: 0\n",
            "Exiting the To-Do List Application. Thank you!\n"
          ]
        }
      ],
      "source": [
        "class ToDoList:\n",
        "    def __init__(self):\n",
        "        self.tasks = []\n",
        "\n",
        "    def add_task(self, task):\n",
        "        self.tasks.append({\"task\": task, \"completed\": False})\n",
        "\n",
        "    def view_tasks(self):\n",
        "        if not self.tasks:\n",
        "            print(\"Your to-do list is empty.\")\n",
        "        else:\n",
        "            print(\"To-Do List:\")\n",
        "            for index, task in enumerate(self.tasks, start=1):\n",
        "                status = \" [X] \" if task[\"completed\"] else \" [ ] \"\n",
        "                print(f\"{index}. {status}{task['task']}\")\n",
        "\n",
        "    def mark_completed(self, task_index):\n",
        "        if 1 <= task_index <= len(self.tasks):\n",
        "            self.tasks[task_index - 1][\"completed\"] = True\n",
        "            print(\"Task marked as completed.\")\n",
        "        else:\n",
        "            print(\"Invalid task index.\")\n",
        "\n",
        "    def delete_task(self, task_index):\n",
        "        if 1 <= task_index <= len(self.tasks):\n",
        "            del self.tasks[task_index - 1]\n",
        "            print(\"Task deleted.\")\n",
        "        else:\n",
        "            print(\"Invalid task index.\")\n",
        "\n",
        "def main():\n",
        "    todo_list = ToDoList()\n",
        "\n",
        "    while True:\n",
        "        print(\"\\nTo-Do List Application\")\n",
        "        print(\"1. Add Task\")\n",
        "        print(\"2. View Tasks\")\n",
        "        print(\"3. Mark Task as Completed\")\n",
        "        print(\"4. Delete Task\")\n",
        "        print(\"0. Exit\")\n",
        "\n",
        "        choice = input(\"Enter your choice: \")\n",
        "\n",
        "        if choice == \"1\":\n",
        "            task = input(\"Enter the task: \")\n",
        "            todo_list.add_task(task)\n",
        "        elif choice == \"2\":\n",
        "            todo_list.view_tasks()\n",
        "        elif choice == \"3\":\n",
        "            task_index = int(input(\"Enter the task index to mark as completed: \"))\n",
        "            todo_list.mark_completed(task_index)\n",
        "        elif choice == \"4\":\n",
        "            task_index = int(input(\"Enter the task index to delete: \"))\n",
        "            todo_list.delete_task(task_index)\n",
        "        elif choice == \"0\":\n",
        "            print(\"Exiting the To-Do List Application. Thank you!\")\n",
        "            break\n",
        "        else:\n",
        "            print(\"Invalid choice. Please try again.\")\n",
        "\n",
        "if __name__ == \"__main__\":\n",
        "    main()\n",
        "\\"
      ]
    }
  ]
}